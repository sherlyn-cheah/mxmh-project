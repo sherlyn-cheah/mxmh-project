{
 "cells": [
  {
   "cell_type": "markdown",
   "id": "64c3a5b9",
   "metadata": {},
   "source": [
    "# Music and Mental Health (MxMH) 🎧 🎶 🧠\n",
    "\n",
    "This exploratory data analysis project was completed loosely following guidelines from the [Data Analysis with Python: Zero to Pandas Course Project](https://jovian.ai/aakashns/zerotopandas-course-project-starter) notebook on Jovian.\n",
    "\n",
    "Dataset is from [Music & Mental Health Survey Results](https://www.kaggle.com/datasets/catherinerasgaitis/mxmh-survey-results) on Kaggle, which reports results on preference of different music genres and self-reported mental health conditions (anxiety, depression, insomnia and obsessive-compulsive disorder).\n",
    "\n",
    "Due to personal interest on music therapy, I was curious to see if there were any potential correlations between music preference and self-reported mental health conditions. However, due to the survey being self-reported, especially in terms of the mental health conditions, this might not be an accurate observation as we are not sure whether the respondents have actually been officially diagnosed with those mental health conditions. Besides that, the usage of a numeric rating scale (from 0-10) for self-reported mental health conditions has certain limitations, e.g. respondents might differ in subjective views on severity despite providing similar ratings. Regardless, this dataset was able to provide preliminary insights towards how one's mental health might be affected by/affecting one's preference in music, opening possibilities to deep dive into this topic and inform future approaches in music therapy.\n",
    "\n",
    "*As the practical objective of completing this project was to learn how to use `pandas` and `matplotlib` through hands-on experience, I appreciate any feedback and suggestions towards improving the exploratory data analysis of the dataset.*"
   ]
  },
  {
   "cell_type": "markdown",
   "id": "00e9f8bf",
   "metadata": {},
   "source": [
    "### Downloading the MxMH dataset \n",
    "\n",
    "Install `opendatasets` first if haven't already (on command line)\n",
    "\n",
    "```\n",
    "pip install opendatasets\n",
    "```"
   ]
  },
  {
   "cell_type": "code",
   "execution_count": 2,
   "id": "7237f26f",
   "metadata": {},
   "outputs": [
    {
     "name": "stdout",
     "output_type": "stream",
     "text": [
      "Skipping, found downloaded files in \"./mxmh-survey-results\" (use force=True to force download)\n"
     ]
    }
   ],
   "source": [
    "import opendatasets as od\n",
    "\n",
    "dataset_url = \"https://www.kaggle.com/datasets/catherinerasgaitis/mxmh-survey-results\"\n",
    "\n",
    "od.download(dataset_url)"
   ]
  },
  {
   "cell_type": "markdown",
   "id": "9d664b85",
   "metadata": {},
   "source": [
    "### Data Preparation and Cleaning"
   ]
  },
  {
   "cell_type": "markdown",
   "id": "5a8f27b5",
   "metadata": {},
   "source": [
    "#### Load the dataset into a data frame using `pandas`"
   ]
  },
  {
   "cell_type": "code",
   "execution_count": 1,
   "id": "63da297e",
   "metadata": {},
   "outputs": [
    {
     "data": {
      "text/html": [
       "<div>\n",
       "<style scoped>\n",
       "    .dataframe tbody tr th:only-of-type {\n",
       "        vertical-align: middle;\n",
       "    }\n",
       "\n",
       "    .dataframe tbody tr th {\n",
       "        vertical-align: top;\n",
       "    }\n",
       "\n",
       "    .dataframe thead th {\n",
       "        text-align: right;\n",
       "    }\n",
       "</style>\n",
       "<table border=\"1\" class=\"dataframe\">\n",
       "  <thead>\n",
       "    <tr style=\"text-align: right;\">\n",
       "      <th></th>\n",
       "      <th>Timestamp</th>\n",
       "      <th>Age</th>\n",
       "      <th>Primary streaming service</th>\n",
       "      <th>Hours per day</th>\n",
       "      <th>While working</th>\n",
       "      <th>Instrumentalist</th>\n",
       "      <th>Composer</th>\n",
       "      <th>Fav genre</th>\n",
       "      <th>Exploratory</th>\n",
       "      <th>Foreign languages</th>\n",
       "      <th>...</th>\n",
       "      <th>Frequency [R&amp;B]</th>\n",
       "      <th>Frequency [Rap]</th>\n",
       "      <th>Frequency [Rock]</th>\n",
       "      <th>Frequency [Video game music]</th>\n",
       "      <th>Anxiety</th>\n",
       "      <th>Depression</th>\n",
       "      <th>Insomnia</th>\n",
       "      <th>OCD</th>\n",
       "      <th>Music effects</th>\n",
       "      <th>Permissions</th>\n",
       "    </tr>\n",
       "  </thead>\n",
       "  <tbody>\n",
       "    <tr>\n",
       "      <th>0</th>\n",
       "      <td>8/27/2022 19:29:02</td>\n",
       "      <td>18.0</td>\n",
       "      <td>Spotify</td>\n",
       "      <td>3.0</td>\n",
       "      <td>Yes</td>\n",
       "      <td>Yes</td>\n",
       "      <td>Yes</td>\n",
       "      <td>Latin</td>\n",
       "      <td>Yes</td>\n",
       "      <td>Yes</td>\n",
       "      <td>...</td>\n",
       "      <td>Sometimes</td>\n",
       "      <td>Very frequently</td>\n",
       "      <td>Never</td>\n",
       "      <td>Sometimes</td>\n",
       "      <td>3.0</td>\n",
       "      <td>0.0</td>\n",
       "      <td>1.0</td>\n",
       "      <td>0.0</td>\n",
       "      <td>NaN</td>\n",
       "      <td>I understand.</td>\n",
       "    </tr>\n",
       "    <tr>\n",
       "      <th>1</th>\n",
       "      <td>8/27/2022 19:57:31</td>\n",
       "      <td>63.0</td>\n",
       "      <td>Pandora</td>\n",
       "      <td>1.5</td>\n",
       "      <td>Yes</td>\n",
       "      <td>No</td>\n",
       "      <td>No</td>\n",
       "      <td>Rock</td>\n",
       "      <td>Yes</td>\n",
       "      <td>No</td>\n",
       "      <td>...</td>\n",
       "      <td>Sometimes</td>\n",
       "      <td>Rarely</td>\n",
       "      <td>Very frequently</td>\n",
       "      <td>Rarely</td>\n",
       "      <td>7.0</td>\n",
       "      <td>2.0</td>\n",
       "      <td>2.0</td>\n",
       "      <td>1.0</td>\n",
       "      <td>NaN</td>\n",
       "      <td>I understand.</td>\n",
       "    </tr>\n",
       "    <tr>\n",
       "      <th>2</th>\n",
       "      <td>8/27/2022 21:28:18</td>\n",
       "      <td>18.0</td>\n",
       "      <td>Spotify</td>\n",
       "      <td>4.0</td>\n",
       "      <td>No</td>\n",
       "      <td>No</td>\n",
       "      <td>No</td>\n",
       "      <td>Video game music</td>\n",
       "      <td>No</td>\n",
       "      <td>Yes</td>\n",
       "      <td>...</td>\n",
       "      <td>Never</td>\n",
       "      <td>Rarely</td>\n",
       "      <td>Rarely</td>\n",
       "      <td>Very frequently</td>\n",
       "      <td>7.0</td>\n",
       "      <td>7.0</td>\n",
       "      <td>10.0</td>\n",
       "      <td>2.0</td>\n",
       "      <td>No effect</td>\n",
       "      <td>I understand.</td>\n",
       "    </tr>\n",
       "    <tr>\n",
       "      <th>3</th>\n",
       "      <td>8/27/2022 21:40:40</td>\n",
       "      <td>61.0</td>\n",
       "      <td>YouTube Music</td>\n",
       "      <td>2.5</td>\n",
       "      <td>Yes</td>\n",
       "      <td>No</td>\n",
       "      <td>Yes</td>\n",
       "      <td>Jazz</td>\n",
       "      <td>Yes</td>\n",
       "      <td>Yes</td>\n",
       "      <td>...</td>\n",
       "      <td>Sometimes</td>\n",
       "      <td>Never</td>\n",
       "      <td>Never</td>\n",
       "      <td>Never</td>\n",
       "      <td>9.0</td>\n",
       "      <td>7.0</td>\n",
       "      <td>3.0</td>\n",
       "      <td>3.0</td>\n",
       "      <td>Improve</td>\n",
       "      <td>I understand.</td>\n",
       "    </tr>\n",
       "    <tr>\n",
       "      <th>4</th>\n",
       "      <td>8/27/2022 21:54:47</td>\n",
       "      <td>18.0</td>\n",
       "      <td>Spotify</td>\n",
       "      <td>4.0</td>\n",
       "      <td>Yes</td>\n",
       "      <td>No</td>\n",
       "      <td>No</td>\n",
       "      <td>R&amp;B</td>\n",
       "      <td>Yes</td>\n",
       "      <td>No</td>\n",
       "      <td>...</td>\n",
       "      <td>Very frequently</td>\n",
       "      <td>Very frequently</td>\n",
       "      <td>Never</td>\n",
       "      <td>Rarely</td>\n",
       "      <td>7.0</td>\n",
       "      <td>2.0</td>\n",
       "      <td>5.0</td>\n",
       "      <td>9.0</td>\n",
       "      <td>Improve</td>\n",
       "      <td>I understand.</td>\n",
       "    </tr>\n",
       "  </tbody>\n",
       "</table>\n",
       "<p>5 rows × 33 columns</p>\n",
       "</div>"
      ],
      "text/plain": [
       "            Timestamp   Age Primary streaming service  Hours per day  \\\n",
       "0  8/27/2022 19:29:02  18.0                   Spotify            3.0   \n",
       "1  8/27/2022 19:57:31  63.0                   Pandora            1.5   \n",
       "2  8/27/2022 21:28:18  18.0                   Spotify            4.0   \n",
       "3  8/27/2022 21:40:40  61.0             YouTube Music            2.5   \n",
       "4  8/27/2022 21:54:47  18.0                   Spotify            4.0   \n",
       "\n",
       "  While working Instrumentalist Composer         Fav genre Exploratory  \\\n",
       "0           Yes             Yes      Yes             Latin         Yes   \n",
       "1           Yes              No       No              Rock         Yes   \n",
       "2            No              No       No  Video game music          No   \n",
       "3           Yes              No      Yes              Jazz         Yes   \n",
       "4           Yes              No       No               R&B         Yes   \n",
       "\n",
       "  Foreign languages  ...  Frequency [R&B]  Frequency [Rap] Frequency [Rock]  \\\n",
       "0               Yes  ...        Sometimes  Very frequently            Never   \n",
       "1                No  ...        Sometimes           Rarely  Very frequently   \n",
       "2               Yes  ...            Never           Rarely           Rarely   \n",
       "3               Yes  ...        Sometimes            Never            Never   \n",
       "4                No  ...  Very frequently  Very frequently            Never   \n",
       "\n",
       "  Frequency [Video game music] Anxiety Depression Insomnia  OCD Music effects  \\\n",
       "0                    Sometimes     3.0        0.0      1.0  0.0           NaN   \n",
       "1                       Rarely     7.0        2.0      2.0  1.0           NaN   \n",
       "2              Very frequently     7.0        7.0     10.0  2.0     No effect   \n",
       "3                        Never     9.0        7.0      3.0  3.0       Improve   \n",
       "4                       Rarely     7.0        2.0      5.0  9.0       Improve   \n",
       "\n",
       "     Permissions  \n",
       "0  I understand.  \n",
       "1  I understand.  \n",
       "2  I understand.  \n",
       "3  I understand.  \n",
       "4  I understand.  \n",
       "\n",
       "[5 rows x 33 columns]"
      ]
     },
     "execution_count": 1,
     "metadata": {},
     "output_type": "execute_result"
    }
   ],
   "source": [
    "import pandas as pd\n",
    "\n",
    "mxmh_raw_df = pd.read_csv(\"../eda-music-mental-health/mxmh-survey-results/mxmh_survey_results.csv\")\n",
    "\n",
    "mxmh_raw_df.head()"
   ]
  },
  {
   "cell_type": "markdown",
   "id": "cab13efa",
   "metadata": {},
   "source": [
    "#### Explore the number of rows & columns, ranges of values etc."
   ]
  },
  {
   "cell_type": "code",
   "execution_count": 42,
   "id": "fd354cee",
   "metadata": {},
   "outputs": [
    {
     "data": {
      "text/plain": [
       "(736, 33)"
      ]
     },
     "execution_count": 42,
     "metadata": {},
     "output_type": "execute_result"
    }
   ],
   "source": [
    "mxmh_raw_df.shape"
   ]
  },
  {
   "cell_type": "markdown",
   "id": "3e5eb392",
   "metadata": {},
   "source": [
    "The MxMH dataset has 736 rows and 33 columns."
   ]
  },
  {
   "cell_type": "code",
   "execution_count": 72,
   "id": "98b4196b",
   "metadata": {},
   "outputs": [
    {
     "data": {
      "text/html": [
       "<div>\n",
       "<style scoped>\n",
       "    .dataframe tbody tr th:only-of-type {\n",
       "        vertical-align: middle;\n",
       "    }\n",
       "\n",
       "    .dataframe tbody tr th {\n",
       "        vertical-align: top;\n",
       "    }\n",
       "\n",
       "    .dataframe thead th {\n",
       "        text-align: right;\n",
       "    }\n",
       "</style>\n",
       "<table border=\"1\" class=\"dataframe\">\n",
       "  <thead>\n",
       "    <tr style=\"text-align: right;\">\n",
       "      <th></th>\n",
       "      <th>Age</th>\n",
       "      <th>Hours per day</th>\n",
       "      <th>BPM</th>\n",
       "      <th>Anxiety</th>\n",
       "      <th>Depression</th>\n",
       "      <th>Insomnia</th>\n",
       "      <th>OCD</th>\n",
       "    </tr>\n",
       "  </thead>\n",
       "  <tbody>\n",
       "    <tr>\n",
       "      <th>count</th>\n",
       "      <td>735.000000</td>\n",
       "      <td>736.000000</td>\n",
       "      <td>6.290000e+02</td>\n",
       "      <td>736.000000</td>\n",
       "      <td>736.000000</td>\n",
       "      <td>736.000000</td>\n",
       "      <td>736.000000</td>\n",
       "    </tr>\n",
       "    <tr>\n",
       "      <th>mean</th>\n",
       "      <td>25.206803</td>\n",
       "      <td>3.572758</td>\n",
       "      <td>1.589948e+06</td>\n",
       "      <td>5.837636</td>\n",
       "      <td>4.796196</td>\n",
       "      <td>3.738451</td>\n",
       "      <td>2.637228</td>\n",
       "    </tr>\n",
       "    <tr>\n",
       "      <th>std</th>\n",
       "      <td>12.054970</td>\n",
       "      <td>3.028199</td>\n",
       "      <td>3.987261e+07</td>\n",
       "      <td>2.793054</td>\n",
       "      <td>3.028870</td>\n",
       "      <td>3.088689</td>\n",
       "      <td>2.842017</td>\n",
       "    </tr>\n",
       "    <tr>\n",
       "      <th>min</th>\n",
       "      <td>10.000000</td>\n",
       "      <td>0.000000</td>\n",
       "      <td>0.000000e+00</td>\n",
       "      <td>0.000000</td>\n",
       "      <td>0.000000</td>\n",
       "      <td>0.000000</td>\n",
       "      <td>0.000000</td>\n",
       "    </tr>\n",
       "    <tr>\n",
       "      <th>25%</th>\n",
       "      <td>18.000000</td>\n",
       "      <td>2.000000</td>\n",
       "      <td>1.000000e+02</td>\n",
       "      <td>4.000000</td>\n",
       "      <td>2.000000</td>\n",
       "      <td>1.000000</td>\n",
       "      <td>0.000000</td>\n",
       "    </tr>\n",
       "    <tr>\n",
       "      <th>50%</th>\n",
       "      <td>21.000000</td>\n",
       "      <td>3.000000</td>\n",
       "      <td>1.200000e+02</td>\n",
       "      <td>6.000000</td>\n",
       "      <td>5.000000</td>\n",
       "      <td>3.000000</td>\n",
       "      <td>2.000000</td>\n",
       "    </tr>\n",
       "    <tr>\n",
       "      <th>75%</th>\n",
       "      <td>28.000000</td>\n",
       "      <td>5.000000</td>\n",
       "      <td>1.440000e+02</td>\n",
       "      <td>8.000000</td>\n",
       "      <td>7.000000</td>\n",
       "      <td>6.000000</td>\n",
       "      <td>5.000000</td>\n",
       "    </tr>\n",
       "    <tr>\n",
       "      <th>max</th>\n",
       "      <td>89.000000</td>\n",
       "      <td>24.000000</td>\n",
       "      <td>1.000000e+09</td>\n",
       "      <td>10.000000</td>\n",
       "      <td>10.000000</td>\n",
       "      <td>10.000000</td>\n",
       "      <td>10.000000</td>\n",
       "    </tr>\n",
       "  </tbody>\n",
       "</table>\n",
       "</div>"
      ],
      "text/plain": [
       "              Age  Hours per day           BPM     Anxiety  Depression  \\\n",
       "count  735.000000     736.000000  6.290000e+02  736.000000  736.000000   \n",
       "mean    25.206803       3.572758  1.589948e+06    5.837636    4.796196   \n",
       "std     12.054970       3.028199  3.987261e+07    2.793054    3.028870   \n",
       "min     10.000000       0.000000  0.000000e+00    0.000000    0.000000   \n",
       "25%     18.000000       2.000000  1.000000e+02    4.000000    2.000000   \n",
       "50%     21.000000       3.000000  1.200000e+02    6.000000    5.000000   \n",
       "75%     28.000000       5.000000  1.440000e+02    8.000000    7.000000   \n",
       "max     89.000000      24.000000  1.000000e+09   10.000000   10.000000   \n",
       "\n",
       "         Insomnia         OCD  \n",
       "count  736.000000  736.000000  \n",
       "mean     3.738451    2.637228  \n",
       "std      3.088689    2.842017  \n",
       "min      0.000000    0.000000  \n",
       "25%      1.000000    0.000000  \n",
       "50%      3.000000    2.000000  \n",
       "75%      6.000000    5.000000  \n",
       "max     10.000000   10.000000  "
      ]
     },
     "execution_count": 72,
     "metadata": {},
     "output_type": "execute_result"
    }
   ],
   "source": [
    "mxmh_raw_df.describe()"
   ]
  },
  {
   "cell_type": "markdown",
   "id": "4c14bcfa",
   "metadata": {},
   "source": [
    "#### Handle missing, incorrect and invalid data\n",
    "\n",
    "Dropping columns that are not needed for current analysis:"
   ]
  },
  {
   "cell_type": "code",
   "execution_count": 2,
   "id": "7e7afc28",
   "metadata": {
    "scrolled": true
   },
   "outputs": [
    {
     "data": {
      "text/html": [
       "<div>\n",
       "<style scoped>\n",
       "    .dataframe tbody tr th:only-of-type {\n",
       "        vertical-align: middle;\n",
       "    }\n",
       "\n",
       "    .dataframe tbody tr th {\n",
       "        vertical-align: top;\n",
       "    }\n",
       "\n",
       "    .dataframe thead th {\n",
       "        text-align: right;\n",
       "    }\n",
       "</style>\n",
       "<table border=\"1\" class=\"dataframe\">\n",
       "  <thead>\n",
       "    <tr style=\"text-align: right;\">\n",
       "      <th></th>\n",
       "      <th>Age</th>\n",
       "      <th>Hours per day</th>\n",
       "      <th>Instrumentalist</th>\n",
       "      <th>Composer</th>\n",
       "      <th>Fav genre</th>\n",
       "      <th>BPM</th>\n",
       "      <th>Frequency [Classical]</th>\n",
       "      <th>Frequency [Country]</th>\n",
       "      <th>Frequency [EDM]</th>\n",
       "      <th>Frequency [Folk]</th>\n",
       "      <th>...</th>\n",
       "      <th>Frequency [Pop]</th>\n",
       "      <th>Frequency [R&amp;B]</th>\n",
       "      <th>Frequency [Rap]</th>\n",
       "      <th>Frequency [Rock]</th>\n",
       "      <th>Frequency [Video game music]</th>\n",
       "      <th>Anxiety</th>\n",
       "      <th>Depression</th>\n",
       "      <th>Insomnia</th>\n",
       "      <th>OCD</th>\n",
       "      <th>Music effects</th>\n",
       "    </tr>\n",
       "  </thead>\n",
       "  <tbody>\n",
       "    <tr>\n",
       "      <th>0</th>\n",
       "      <td>18.0</td>\n",
       "      <td>3.0</td>\n",
       "      <td>Yes</td>\n",
       "      <td>Yes</td>\n",
       "      <td>Latin</td>\n",
       "      <td>156.0</td>\n",
       "      <td>Rarely</td>\n",
       "      <td>Never</td>\n",
       "      <td>Rarely</td>\n",
       "      <td>Never</td>\n",
       "      <td>...</td>\n",
       "      <td>Very frequently</td>\n",
       "      <td>Sometimes</td>\n",
       "      <td>Very frequently</td>\n",
       "      <td>Never</td>\n",
       "      <td>Sometimes</td>\n",
       "      <td>3.0</td>\n",
       "      <td>0.0</td>\n",
       "      <td>1.0</td>\n",
       "      <td>0.0</td>\n",
       "      <td>NaN</td>\n",
       "    </tr>\n",
       "    <tr>\n",
       "      <th>1</th>\n",
       "      <td>63.0</td>\n",
       "      <td>1.5</td>\n",
       "      <td>No</td>\n",
       "      <td>No</td>\n",
       "      <td>Rock</td>\n",
       "      <td>119.0</td>\n",
       "      <td>Sometimes</td>\n",
       "      <td>Never</td>\n",
       "      <td>Never</td>\n",
       "      <td>Rarely</td>\n",
       "      <td>...</td>\n",
       "      <td>Sometimes</td>\n",
       "      <td>Sometimes</td>\n",
       "      <td>Rarely</td>\n",
       "      <td>Very frequently</td>\n",
       "      <td>Rarely</td>\n",
       "      <td>7.0</td>\n",
       "      <td>2.0</td>\n",
       "      <td>2.0</td>\n",
       "      <td>1.0</td>\n",
       "      <td>NaN</td>\n",
       "    </tr>\n",
       "    <tr>\n",
       "      <th>2</th>\n",
       "      <td>18.0</td>\n",
       "      <td>4.0</td>\n",
       "      <td>No</td>\n",
       "      <td>No</td>\n",
       "      <td>Video game music</td>\n",
       "      <td>132.0</td>\n",
       "      <td>Never</td>\n",
       "      <td>Never</td>\n",
       "      <td>Very frequently</td>\n",
       "      <td>Never</td>\n",
       "      <td>...</td>\n",
       "      <td>Rarely</td>\n",
       "      <td>Never</td>\n",
       "      <td>Rarely</td>\n",
       "      <td>Rarely</td>\n",
       "      <td>Very frequently</td>\n",
       "      <td>7.0</td>\n",
       "      <td>7.0</td>\n",
       "      <td>10.0</td>\n",
       "      <td>2.0</td>\n",
       "      <td>No effect</td>\n",
       "    </tr>\n",
       "    <tr>\n",
       "      <th>3</th>\n",
       "      <td>61.0</td>\n",
       "      <td>2.5</td>\n",
       "      <td>No</td>\n",
       "      <td>Yes</td>\n",
       "      <td>Jazz</td>\n",
       "      <td>84.0</td>\n",
       "      <td>Sometimes</td>\n",
       "      <td>Never</td>\n",
       "      <td>Never</td>\n",
       "      <td>Rarely</td>\n",
       "      <td>...</td>\n",
       "      <td>Sometimes</td>\n",
       "      <td>Sometimes</td>\n",
       "      <td>Never</td>\n",
       "      <td>Never</td>\n",
       "      <td>Never</td>\n",
       "      <td>9.0</td>\n",
       "      <td>7.0</td>\n",
       "      <td>3.0</td>\n",
       "      <td>3.0</td>\n",
       "      <td>Improve</td>\n",
       "    </tr>\n",
       "    <tr>\n",
       "      <th>4</th>\n",
       "      <td>18.0</td>\n",
       "      <td>4.0</td>\n",
       "      <td>No</td>\n",
       "      <td>No</td>\n",
       "      <td>R&amp;B</td>\n",
       "      <td>107.0</td>\n",
       "      <td>Never</td>\n",
       "      <td>Never</td>\n",
       "      <td>Rarely</td>\n",
       "      <td>Never</td>\n",
       "      <td>...</td>\n",
       "      <td>Sometimes</td>\n",
       "      <td>Very frequently</td>\n",
       "      <td>Very frequently</td>\n",
       "      <td>Never</td>\n",
       "      <td>Rarely</td>\n",
       "      <td>7.0</td>\n",
       "      <td>2.0</td>\n",
       "      <td>5.0</td>\n",
       "      <td>9.0</td>\n",
       "      <td>Improve</td>\n",
       "    </tr>\n",
       "  </tbody>\n",
       "</table>\n",
       "<p>5 rows × 27 columns</p>\n",
       "</div>"
      ],
      "text/plain": [
       "    Age  Hours per day Instrumentalist Composer         Fav genre    BPM  \\\n",
       "0  18.0            3.0             Yes      Yes             Latin  156.0   \n",
       "1  63.0            1.5              No       No              Rock  119.0   \n",
       "2  18.0            4.0              No       No  Video game music  132.0   \n",
       "3  61.0            2.5              No      Yes              Jazz   84.0   \n",
       "4  18.0            4.0              No       No               R&B  107.0   \n",
       "\n",
       "  Frequency [Classical] Frequency [Country]  Frequency [EDM] Frequency [Folk]  \\\n",
       "0                Rarely               Never           Rarely            Never   \n",
       "1             Sometimes               Never            Never           Rarely   \n",
       "2                 Never               Never  Very frequently            Never   \n",
       "3             Sometimes               Never            Never           Rarely   \n",
       "4                 Never               Never           Rarely            Never   \n",
       "\n",
       "   ...  Frequency [Pop]  Frequency [R&B]  Frequency [Rap] Frequency [Rock]  \\\n",
       "0  ...  Very frequently        Sometimes  Very frequently            Never   \n",
       "1  ...        Sometimes        Sometimes           Rarely  Very frequently   \n",
       "2  ...           Rarely            Never           Rarely           Rarely   \n",
       "3  ...        Sometimes        Sometimes            Never            Never   \n",
       "4  ...        Sometimes  Very frequently  Very frequently            Never   \n",
       "\n",
       "  Frequency [Video game music] Anxiety Depression Insomnia  OCD Music effects  \n",
       "0                    Sometimes     3.0        0.0      1.0  0.0           NaN  \n",
       "1                       Rarely     7.0        2.0      2.0  1.0           NaN  \n",
       "2              Very frequently     7.0        7.0     10.0  2.0     No effect  \n",
       "3                        Never     9.0        7.0      3.0  3.0       Improve  \n",
       "4                       Rarely     7.0        2.0      5.0  9.0       Improve  \n",
       "\n",
       "[5 rows x 27 columns]"
      ]
     },
     "execution_count": 2,
     "metadata": {},
     "output_type": "execute_result"
    }
   ],
   "source": [
    "mxmh_df = mxmh_raw_df.drop(['Timestamp', 'Primary streaming service', 'While working', 'Exploratory', 'Foreign languages', 'Permissions'], axis = 1, inplace = False)\n",
    "\n",
    "mxmh_df.head()"
   ]
  },
  {
   "cell_type": "code",
   "execution_count": 61,
   "id": "8b166be2",
   "metadata": {
    "scrolled": false
   },
   "outputs": [
    {
     "data": {
      "text/plain": [
       "Age                               1\n",
       "Hours per day                     0\n",
       "Instrumentalist                   4\n",
       "Composer                          1\n",
       "Fav genre                         0\n",
       "BPM                             107\n",
       "Frequency [Classical]             0\n",
       "Frequency [Country]               0\n",
       "Frequency [EDM]                   0\n",
       "Frequency [Folk]                  0\n",
       "Frequency [Gospel]                0\n",
       "Frequency [Hip hop]               0\n",
       "Frequency [Jazz]                  0\n",
       "Frequency [K pop]                 0\n",
       "Frequency [Latin]                 0\n",
       "Frequency [Lofi]                  0\n",
       "Frequency [Metal]                 0\n",
       "Frequency [Pop]                   0\n",
       "Frequency [R&B]                   0\n",
       "Frequency [Rap]                   0\n",
       "Frequency [Rock]                  0\n",
       "Frequency [Video game music]      0\n",
       "Anxiety                           0\n",
       "Depression                        0\n",
       "Insomnia                          0\n",
       "OCD                               0\n",
       "Music effects                     8\n",
       "dtype: int64"
      ]
     },
     "execution_count": 61,
     "metadata": {},
     "output_type": "execute_result"
    }
   ],
   "source": [
    "mxmh_df.isnull().sum()"
   ]
  },
  {
   "cell_type": "markdown",
   "id": "efbba0f8",
   "metadata": {},
   "source": [
    "From the list above, we see that \"BPM\" variable has 107 missing entries (14.54%). This optional question might be trickier for some respondents (asking about beats per minute of favourite genre) which caused them to skip it."
   ]
  },
  {
   "cell_type": "code",
   "execution_count": 62,
   "id": "50a0dc1f",
   "metadata": {
    "scrolled": false
   },
   "outputs": [
    {
     "data": {
      "text/plain": [
       "array([1.56000000e+02, 1.19000000e+02, 1.32000000e+02, 8.40000000e+01,\n",
       "       1.07000000e+02, 8.60000000e+01, 6.60000000e+01, 9.50000000e+01,\n",
       "       9.40000000e+01, 1.55000000e+02,            nan, 1.25000000e+02,\n",
       "       8.80000000e+01, 1.48000000e+02, 1.03000000e+02, 1.20000000e+02,\n",
       "       9.90000000e+01, 1.18000000e+02, 7.90000000e+01, 1.69000000e+02,\n",
       "       1.36000000e+02, 1.01000000e+02, 1.26000000e+02, 1.83000000e+02,\n",
       "       1.42000000e+02, 7.50000000e+01, 8.90000000e+01, 1.40000000e+02,\n",
       "       1.61000000e+02, 8.00000000e+01, 1.30000000e+02, 1.47000000e+02,\n",
       "       7.70000000e+01, 1.15000000e+02, 1.57000000e+02, 9.00000000e+01,\n",
       "       1.28000000e+02, 9.60000000e+01, 9.10000000e+01, 5.50000000e+01,\n",
       "       8.50000000e+01, 1.60000000e+02, 1.08000000e+02, 1.70000000e+02,\n",
       "       1.74000000e+02, 1.27000000e+02, 1.65000000e+02, 1.13000000e+02,\n",
       "       1.67000000e+02, 1.10000000e+02, 1.50000000e+02, 9.30000000e+01,\n",
       "       1.09000000e+02, 1.75000000e+02, 1.62000000e+02, 1.89000000e+02,\n",
       "       1.21000000e+02, 2.00000000e+02, 1.05000000e+02, 1.93000000e+02,\n",
       "       1.49000000e+02, 1.34000000e+02, 1.00000000e+02, 9.80000000e+01,\n",
       "       7.80000000e+01, 1.17000000e+02, 1.22000000e+02, 1.79000000e+02,\n",
       "       1.66000000e+02, 1.44000000e+02, 6.10000000e+01, 1.85000000e+02,\n",
       "       9.20000000e+01, 1.94000000e+02, 6.00000000e+01, 1.90000000e+02,\n",
       "       8.70000000e+01, 1.71000000e+02, 1.14000000e+02, 1.41000000e+02,\n",
       "       1.46000000e+02, 1.64000000e+02, 1.45000000e+02, 1.12000000e+02,\n",
       "       1.11000000e+02, 1.72000000e+02, 1.80000000e+02, 7.60000000e+01,\n",
       "       1.29000000e+02, 8.10000000e+01, 5.20000000e+01, 9.70000000e+01,\n",
       "       1.43000000e+02, 1.58000000e+02, 1.04000000e+02, 1.35000000e+02,\n",
       "       2.20000000e+02, 1.38000000e+02, 1.39000000e+02, 1.78000000e+02,\n",
       "       6.20000000e+01, 7.20000000e+01, 0.00000000e+00, 2.08000000e+02,\n",
       "       2.00000000e+01, 1.24000000e+02, 1.81000000e+02, 1.06000000e+02,\n",
       "       1.91000000e+02, 4.00000000e+01, 1.73000000e+02, 1.23000000e+02,\n",
       "       4.00000000e+00, 7.30000000e+01, 1.37000000e+02, 1.33000000e+02,\n",
       "       1.02000000e+02, 8.20000000e+01, 1.16000000e+02, 1.31000000e+02,\n",
       "       2.04000000e+02, 1.59000000e+02, 7.00000000e+01, 2.10000000e+02,\n",
       "       8.00000000e+00, 9.99999999e+08, 1.53000000e+02, 1.92000000e+02,\n",
       "       5.60000000e+01, 6.30000000e+01, 6.80000000e+01, 6.24000000e+02,\n",
       "       2.18000000e+02, 1.86000000e+02, 1.63000000e+02, 1.68000000e+02])"
      ]
     },
     "execution_count": 62,
     "metadata": {},
     "output_type": "execute_result"
    }
   ],
   "source": [
    "mxmh_df['BPM'].unique()"
   ]
  },
  {
   "cell_type": "markdown",
   "id": "c5d055bc",
   "metadata": {},
   "source": [
    "From the unique BPM values above, we see that there are also some unusual responses/outliers (e.g. 0.00000000e+00, 9.99999999e+08). Hence, we will impute null values with the median value rather than mean. [Reference](https://www.analyticsvidhya.com/blog/2021/10/handling-missing-value/)"
   ]
  },
  {
   "cell_type": "code",
   "execution_count": 3,
   "id": "2be4e58b",
   "metadata": {},
   "outputs": [],
   "source": [
    "BPM_median = mxmh_df['BPM'].median()\n",
    "\n",
    "mxmh_df['BPM'].fillna(BPM_median, inplace = True)"
   ]
  },
  {
   "cell_type": "markdown",
   "id": "be4ca5ed",
   "metadata": {},
   "source": [
    "We will also exclude responses lower than 40 BPM and higher than 220 BPM (based on range of tempo of songs on [getsongbpm.com](https://getsongbpm.com/tempo))."
   ]
  },
  {
   "cell_type": "code",
   "execution_count": 4,
   "id": "b5609b6f",
   "metadata": {},
   "outputs": [],
   "source": [
    "mxmh_df = mxmh_df.loc[(mxmh_df.BPM >= 40) & (mxmh_df.BPM <= 220)]"
   ]
  },
  {
   "cell_type": "markdown",
   "id": "4b9d7ae8",
   "metadata": {},
   "source": [
    "Removing remaining rows with missing values as they are ~1%:"
   ]
  },
  {
   "cell_type": "code",
   "execution_count": 5,
   "id": "f961f03f",
   "metadata": {},
   "outputs": [],
   "source": [
    "mxmh_df.dropna(inplace = True)"
   ]
  },
  {
   "cell_type": "markdown",
   "id": "f8b42d01",
   "metadata": {},
   "source": [
    "### Exploratory Analysis and Visualisation"
   ]
  },
  {
   "cell_type": "code",
   "execution_count": 13,
   "id": "68ea4f2c",
   "metadata": {},
   "outputs": [],
   "source": [
    "import matplotlib.pyplot as plt"
   ]
  },
  {
   "cell_type": "markdown",
   "id": "2bcfeb12",
   "metadata": {},
   "source": [
    "View cleaned dataframe"
   ]
  },
  {
   "cell_type": "code",
   "execution_count": 6,
   "id": "d0f566a5",
   "metadata": {},
   "outputs": [
    {
     "data": {
      "text/html": [
       "<div>\n",
       "<style scoped>\n",
       "    .dataframe tbody tr th:only-of-type {\n",
       "        vertical-align: middle;\n",
       "    }\n",
       "\n",
       "    .dataframe tbody tr th {\n",
       "        vertical-align: top;\n",
       "    }\n",
       "\n",
       "    .dataframe thead th {\n",
       "        text-align: right;\n",
       "    }\n",
       "</style>\n",
       "<table border=\"1\" class=\"dataframe\">\n",
       "  <thead>\n",
       "    <tr style=\"text-align: right;\">\n",
       "      <th></th>\n",
       "      <th>Age</th>\n",
       "      <th>Hours per day</th>\n",
       "      <th>Instrumentalist</th>\n",
       "      <th>Composer</th>\n",
       "      <th>Fav genre</th>\n",
       "      <th>BPM</th>\n",
       "      <th>Frequency [Classical]</th>\n",
       "      <th>Frequency [Country]</th>\n",
       "      <th>Frequency [EDM]</th>\n",
       "      <th>Frequency [Folk]</th>\n",
       "      <th>...</th>\n",
       "      <th>Frequency [Pop]</th>\n",
       "      <th>Frequency [R&amp;B]</th>\n",
       "      <th>Frequency [Rap]</th>\n",
       "      <th>Frequency [Rock]</th>\n",
       "      <th>Frequency [Video game music]</th>\n",
       "      <th>Anxiety</th>\n",
       "      <th>Depression</th>\n",
       "      <th>Insomnia</th>\n",
       "      <th>OCD</th>\n",
       "      <th>Music effects</th>\n",
       "    </tr>\n",
       "  </thead>\n",
       "  <tbody>\n",
       "    <tr>\n",
       "      <th>2</th>\n",
       "      <td>18.0</td>\n",
       "      <td>4.0</td>\n",
       "      <td>No</td>\n",
       "      <td>No</td>\n",
       "      <td>Video game music</td>\n",
       "      <td>132.0</td>\n",
       "      <td>Never</td>\n",
       "      <td>Never</td>\n",
       "      <td>Very frequently</td>\n",
       "      <td>Never</td>\n",
       "      <td>...</td>\n",
       "      <td>Rarely</td>\n",
       "      <td>Never</td>\n",
       "      <td>Rarely</td>\n",
       "      <td>Rarely</td>\n",
       "      <td>Very frequently</td>\n",
       "      <td>7.0</td>\n",
       "      <td>7.0</td>\n",
       "      <td>10.0</td>\n",
       "      <td>2.0</td>\n",
       "      <td>No effect</td>\n",
       "    </tr>\n",
       "    <tr>\n",
       "      <th>3</th>\n",
       "      <td>61.0</td>\n",
       "      <td>2.5</td>\n",
       "      <td>No</td>\n",
       "      <td>Yes</td>\n",
       "      <td>Jazz</td>\n",
       "      <td>84.0</td>\n",
       "      <td>Sometimes</td>\n",
       "      <td>Never</td>\n",
       "      <td>Never</td>\n",
       "      <td>Rarely</td>\n",
       "      <td>...</td>\n",
       "      <td>Sometimes</td>\n",
       "      <td>Sometimes</td>\n",
       "      <td>Never</td>\n",
       "      <td>Never</td>\n",
       "      <td>Never</td>\n",
       "      <td>9.0</td>\n",
       "      <td>7.0</td>\n",
       "      <td>3.0</td>\n",
       "      <td>3.0</td>\n",
       "      <td>Improve</td>\n",
       "    </tr>\n",
       "    <tr>\n",
       "      <th>4</th>\n",
       "      <td>18.0</td>\n",
       "      <td>4.0</td>\n",
       "      <td>No</td>\n",
       "      <td>No</td>\n",
       "      <td>R&amp;B</td>\n",
       "      <td>107.0</td>\n",
       "      <td>Never</td>\n",
       "      <td>Never</td>\n",
       "      <td>Rarely</td>\n",
       "      <td>Never</td>\n",
       "      <td>...</td>\n",
       "      <td>Sometimes</td>\n",
       "      <td>Very frequently</td>\n",
       "      <td>Very frequently</td>\n",
       "      <td>Never</td>\n",
       "      <td>Rarely</td>\n",
       "      <td>7.0</td>\n",
       "      <td>2.0</td>\n",
       "      <td>5.0</td>\n",
       "      <td>9.0</td>\n",
       "      <td>Improve</td>\n",
       "    </tr>\n",
       "    <tr>\n",
       "      <th>5</th>\n",
       "      <td>18.0</td>\n",
       "      <td>5.0</td>\n",
       "      <td>Yes</td>\n",
       "      <td>Yes</td>\n",
       "      <td>Jazz</td>\n",
       "      <td>86.0</td>\n",
       "      <td>Rarely</td>\n",
       "      <td>Sometimes</td>\n",
       "      <td>Never</td>\n",
       "      <td>Never</td>\n",
       "      <td>...</td>\n",
       "      <td>Very frequently</td>\n",
       "      <td>Very frequently</td>\n",
       "      <td>Very frequently</td>\n",
       "      <td>Very frequently</td>\n",
       "      <td>Never</td>\n",
       "      <td>8.0</td>\n",
       "      <td>8.0</td>\n",
       "      <td>7.0</td>\n",
       "      <td>7.0</td>\n",
       "      <td>Improve</td>\n",
       "    </tr>\n",
       "    <tr>\n",
       "      <th>6</th>\n",
       "      <td>18.0</td>\n",
       "      <td>3.0</td>\n",
       "      <td>Yes</td>\n",
       "      <td>No</td>\n",
       "      <td>Video game music</td>\n",
       "      <td>66.0</td>\n",
       "      <td>Sometimes</td>\n",
       "      <td>Never</td>\n",
       "      <td>Rarely</td>\n",
       "      <td>Sometimes</td>\n",
       "      <td>...</td>\n",
       "      <td>Rarely</td>\n",
       "      <td>Rarely</td>\n",
       "      <td>Never</td>\n",
       "      <td>Never</td>\n",
       "      <td>Sometimes</td>\n",
       "      <td>4.0</td>\n",
       "      <td>8.0</td>\n",
       "      <td>6.0</td>\n",
       "      <td>0.0</td>\n",
       "      <td>Improve</td>\n",
       "    </tr>\n",
       "  </tbody>\n",
       "</table>\n",
       "<p>5 rows × 27 columns</p>\n",
       "</div>"
      ],
      "text/plain": [
       "    Age  Hours per day Instrumentalist Composer         Fav genre    BPM  \\\n",
       "2  18.0            4.0              No       No  Video game music  132.0   \n",
       "3  61.0            2.5              No      Yes              Jazz   84.0   \n",
       "4  18.0            4.0              No       No               R&B  107.0   \n",
       "5  18.0            5.0             Yes      Yes              Jazz   86.0   \n",
       "6  18.0            3.0             Yes       No  Video game music   66.0   \n",
       "\n",
       "  Frequency [Classical] Frequency [Country]  Frequency [EDM] Frequency [Folk]  \\\n",
       "2                 Never               Never  Very frequently            Never   \n",
       "3             Sometimes               Never            Never           Rarely   \n",
       "4                 Never               Never           Rarely            Never   \n",
       "5                Rarely           Sometimes            Never            Never   \n",
       "6             Sometimes               Never           Rarely        Sometimes   \n",
       "\n",
       "   ...  Frequency [Pop]  Frequency [R&B]  Frequency [Rap] Frequency [Rock]  \\\n",
       "2  ...           Rarely            Never           Rarely           Rarely   \n",
       "3  ...        Sometimes        Sometimes            Never            Never   \n",
       "4  ...        Sometimes  Very frequently  Very frequently            Never   \n",
       "5  ...  Very frequently  Very frequently  Very frequently  Very frequently   \n",
       "6  ...           Rarely           Rarely            Never            Never   \n",
       "\n",
       "  Frequency [Video game music] Anxiety Depression Insomnia  OCD Music effects  \n",
       "2              Very frequently     7.0        7.0     10.0  2.0     No effect  \n",
       "3                        Never     9.0        7.0      3.0  3.0       Improve  \n",
       "4                       Rarely     7.0        2.0      5.0  9.0       Improve  \n",
       "5                        Never     8.0        8.0      7.0  7.0       Improve  \n",
       "6                    Sometimes     4.0        8.0      6.0  0.0       Improve  \n",
       "\n",
       "[5 rows x 27 columns]"
      ]
     },
     "execution_count": 6,
     "metadata": {},
     "output_type": "execute_result"
    }
   ],
   "source": [
    "mxmh_df.head()"
   ]
  },
  {
   "cell_type": "markdown",
   "id": "32a789fd",
   "metadata": {},
   "source": [
    "#### Compute the mean, sum, range and other interesting statistics for numeric columns"
   ]
  },
  {
   "cell_type": "code",
   "execution_count": 17,
   "id": "18dfcb1d",
   "metadata": {},
   "outputs": [
    {
     "name": "stdout",
     "output_type": "stream",
     "text": [
      "The average age of respondents is 25.06.\n",
      "The average duration that respondents listen to music each day is 3.59 hours.\n",
      "The average BPM of songs listened by respondents is 123.33.\n",
      "The average self-reported anxiety score of respondents is 5.83.\n",
      "The average self-reported depression score of respondents is 4.78.\n",
      "The average self-reported insomnia score of respondents is 3.74.\n",
      "The average self-reported OCD score of respondents is 2.64.\n"
     ]
    }
   ],
   "source": [
    "mean_age = mxmh_df['Age'].mean()\n",
    "print(f\"The average age of respondents is {mean_age:.2f}.\")\n",
    "\n",
    "mean_hours = mxmh_df['Hours per day'].mean()\n",
    "print(f\"The average duration that respondents listen to music each day is {mean_hours:.2f} hours.\")\n",
    "\n",
    "mean_bpm = mxmh_df['BPM'].mean()\n",
    "print(f\"The average BPM of songs listened by respondents is {mean_bpm:.2f}.\")\n",
    "\n",
    "mean_anxiety = mxmh_df['Anxiety'].mean()\n",
    "print(f\"The average self-reported anxiety score of respondents is {mean_anxiety:.2f}.\")\n",
    "\n",
    "mean_depression = mxmh_df['Depression'].mean()\n",
    "print(f\"The average self-reported depression score of respondents is {mean_depression:.2f}.\")\n",
    "\n",
    "mean_insomnia = mxmh_df['Insomnia'].mean()\n",
    "print(f\"The average self-reported insomnia score of respondents is {mean_insomnia:.2f}.\")\n",
    "\n",
    "mean_ocd = mxmh_df['OCD'].mean()\n",
    "print(f\"The average self-reported OCD score of respondents is {mean_ocd:.2f}.\")"
   ]
  },
  {
   "cell_type": "code",
   "execution_count": 7,
   "id": "3dedc467",
   "metadata": {
    "scrolled": true
   },
   "outputs": [
    {
     "data": {
      "text/plain": [
       "Instrumentalist\n",
       "No     486\n",
       "Yes    230\n",
       "Name: Instrumentalist, dtype: int64"
      ]
     },
     "execution_count": 7,
     "metadata": {},
     "output_type": "execute_result"
    }
   ],
   "source": [
    "mxmh_df.groupby(['Instrumentalist'])['Instrumentalist'].count()"
   ]
  },
  {
   "cell_type": "markdown",
   "id": "b71c0790",
   "metadata": {},
   "source": [
    "230 respondents (32.12%) play musical instruments regularly."
   ]
  },
  {
   "cell_type": "code",
   "execution_count": 38,
   "id": "2d8186d0",
   "metadata": {},
   "outputs": [
    {
     "data": {
      "text/plain": [
       "Composer\n",
       "No     593\n",
       "Yes    123\n",
       "Name: Composer, dtype: int64"
      ]
     },
     "execution_count": 38,
     "metadata": {},
     "output_type": "execute_result"
    }
   ],
   "source": [
    "mxmh_df.groupby(['Composer'])['Composer'].count()"
   ]
  },
  {
   "cell_type": "markdown",
   "id": "5c3c3e89",
   "metadata": {},
   "source": [
    "123 respondents (17.18%) have experience with music composition."
   ]
  },
  {
   "cell_type": "code",
   "execution_count": 15,
   "id": "d9b0358a",
   "metadata": {
    "scrolled": false
   },
   "outputs": [
    {
     "data": {
      "text/plain": [
       "Text(0.5, 1.0, 'Favourite music genres of respondents')"
      ]
     },
     "execution_count": 15,
     "metadata": {},
     "output_type": "execute_result"
    },
    {
     "data": {
      "image/png": "[encoded data removed]",
      "text/plain": [
       "<Figure size 432x288 with 1 Axes>"
      ]
     },
     "metadata": {
      "needs_background": "light"
     },
     "output_type": "display_data"
    }
   ],
   "source": [
    "music_genres = mxmh_df.groupby(['Fav genre'])['Fav genre'].count()\n",
    "\n",
    "music_genres.plot.bar()\n",
    "plt.xlabel(\"\")\n",
    "plt.ylabel(\"Number of respondents\")\n",
    "plt.title(\"Favourite music genres of respondents\")"
   ]
  },
  {
   "cell_type": "markdown",
   "id": "f3bdeec8",
   "metadata": {},
   "source": [
    "Rock is the most popular music genre among respondents, whereas Latin is the least popular music genre."
   ]
  },
  {
   "cell_type": "code",
   "execution_count": 40,
   "id": "821dd95e",
   "metadata": {
    "scrolled": false
   },
   "outputs": [
    {
     "data": {
      "text/plain": [
       "Music effects\n",
       "Improve      533\n",
       "No effect    166\n",
       "Worsen        17\n",
       "Name: Music effects, dtype: int64"
      ]
     },
     "execution_count": 40,
     "metadata": {},
     "output_type": "execute_result"
    }
   ],
   "source": [
    "mxmh_df.groupby(['Music effects'])['Music effects'].count()"
   ]
  },
  {
   "cell_type": "markdown",
   "id": "00ed6b32",
   "metadata": {},
   "source": [
    "Majority of respondents (74.44%) believe that music is able to improve their mental health conditions."
   ]
  },
  {
   "cell_type": "markdown",
   "id": "cfcf396d",
   "metadata": {},
   "source": [
    "#### Explore distributions of numeric columns using histograms etc."
   ]
  },
  {
   "cell_type": "markdown",
   "id": "c16c4f14",
   "metadata": {},
   "source": [
    "Install `matplotlib` first if haven't already (on command line)\n",
    "\n",
    "```\n",
    "pip install matplotlib\n",
    "\n",
    "```"
   ]
  },
  {
   "cell_type": "code",
   "execution_count": 104,
   "id": "d59ec18f",
   "metadata": {},
   "outputs": [
    {
     "data": {
      "text/plain": [
       "Text(0.5, 1.0, 'Number of hours respondents listen to music daily')"
      ]
     },
     "execution_count": 104,
     "metadata": {},
     "output_type": "execute_result"
    },
    {
     "data": {
      "image/png": "[encoded data removed]",
      "text/plain": [
       "<Figure size 432x288 with 1 Axes>"
      ]
     },
     "metadata": {
      "needs_background": "light"
     },
     "output_type": "display_data"
    }
   ],
   "source": [
    "mxmh_df['Hours per day'].value_counts(bins = 24).sort_index().plot.bar(width = 1)\n",
    "plt.xlim(xmin = 0)\n",
    "plt.xlabel(\"Number of hours\")\n",
    "plt.xticks([0, 2, 4, 6, 8, 10, 12, 14, 16, 18, 20, 22, 24], [0, 2, 4, 6, 8, 10, 12, 14, 16, 18, 20, 22, 24], rotation = \"horizontal\")\n",
    "plt.ylabel(\"Number of respondents\")\n",
    "plt.title(\"Number of hours respondents listen to music daily\")"
   ]
  },
  {
   "cell_type": "code",
   "execution_count": 11,
   "id": "fb3688fc",
   "metadata": {
    "scrolled": false
   },
   "outputs": [
    {
     "data": {
      "text/plain": [
       "Text(0.5, 0.98, 'How frequently respondents listen to different music genres')"
      ]
     },
     "execution_count": 11,
     "metadata": {},
     "output_type": "execute_result"
    },
    {
     "data": {
      "image/png": "[encoded data removed]",
      "text/plain": [
       "<Figure size 432x288 with 16 Axes>"
      ]
     },
     "metadata": {
      "needs_background": "light"
     },
     "output_type": "display_data"
    }
   ],
   "source": [
    "frequency = ['Never', 'Rarely', 'Sometimes', 'Very frequently']\n",
    "\n",
    "plt.subplot(4,4,1)\n",
    "mxmh_df['Frequency [Classical]'].value_counts().loc[frequency].plot.bar()\n",
    "plt.xticks([])\n",
    "plt.yticks([100,300,500])\n",
    "plt.ylim(0,550)\n",
    "plt.title(\"Classical\")\n",
    "\n",
    "plt.subplot(4,4,2)\n",
    "mxmh_df['Frequency [Country]'].value_counts().loc[frequency].plot.bar()\n",
    "plt.xticks([])\n",
    "plt.yticks([100,300,500])\n",
    "plt.ylim(0,550)\n",
    "plt.title(\"Country\")\n",
    "\n",
    "plt.subplot(4,4,3)\n",
    "mxmh_df['Frequency [EDM]'].value_counts().loc[frequency].plot.bar()\n",
    "plt.xticks([])\n",
    "plt.yticks([100,300,500])\n",
    "plt.ylim(0,550)\n",
    "plt.title(\"EDM\")\n",
    "\n",
    "plt.subplot(4,4,4)\n",
    "mxmh_df['Frequency [Folk]'].value_counts().loc[frequency].plot.bar()\n",
    "plt.xticks([])\n",
    "plt.yticks([100,300,500])\n",
    "plt.ylim(0,550)\n",
    "plt.title(\"Folk\")\n",
    "\n",
    "plt.subplot(4,4,5)\n",
    "mxmh_df['Frequency [Gospel]'].value_counts().loc[frequency].plot.bar()\n",
    "plt.xticks([])\n",
    "plt.yticks([100,300,500])\n",
    "plt.ylim(0,550)\n",
    "plt.title(\"Gospel\")\n",
    "\n",
    "plt.subplot(4,4,6)\n",
    "mxmh_df['Frequency [Hip hop]'].value_counts().loc[frequency].plot.bar()\n",
    "plt.xticks([])\n",
    "plt.yticks([100,300,500])\n",
    "plt.ylim(0,550)\n",
    "plt.title(\"Hip hop\")\n",
    "\n",
    "plt.subplot(4,4,7)\n",
    "mxmh_df['Frequency [Jazz]'].value_counts().loc[frequency].plot.bar()\n",
    "plt.xticks([])\n",
    "plt.yticks([100,300,500])\n",
    "plt.ylim(0,550)\n",
    "plt.title(\"Jazz\")\n",
    "\n",
    "plt.subplot(4,4,8)\n",
    "mxmh_df['Frequency [K pop]'].value_counts().loc[frequency].plot.bar()\n",
    "plt.xticks([])\n",
    "plt.yticks([100,300,500])\n",
    "plt.ylim(0,550)\n",
    "plt.title(\"K-pop\")\n",
    "\n",
    "plt.subplot(4,4,9)\n",
    "mxmh_df['Frequency [Latin]'].value_counts().loc[frequency].plot.bar()\n",
    "plt.xticks([])\n",
    "plt.yticks([100,300,500])\n",
    "plt.ylim(0,550)\n",
    "plt.title(\"Latin\")\n",
    "\n",
    "plt.subplot(4,4,10)\n",
    "mxmh_df['Frequency [Lofi]'].value_counts().loc[frequency].plot.bar()\n",
    "plt.xticks([])\n",
    "plt.yticks([100,300,500])\n",
    "plt.ylim(0,550)\n",
    "plt.title(\"Lofi\")\n",
    "\n",
    "plt.subplot(4,4,11)\n",
    "mxmh_df['Frequency [Metal]'].value_counts().loc[frequency].plot.bar()\n",
    "plt.xticks([])\n",
    "plt.yticks([100,300,500])\n",
    "plt.ylim(0,550)\n",
    "plt.title(\"Metal\")\n",
    "\n",
    "plt.subplot(4,4,12)\n",
    "mxmh_df['Frequency [Pop]'].value_counts().loc[frequency].plot.bar()\n",
    "plt.xticks([])\n",
    "plt.yticks([100,300,500])\n",
    "plt.ylim(0,550)\n",
    "plt.title(\"Pop\")\n",
    "\n",
    "plt.subplot(4,4,13)\n",
    "mxmh_df['Frequency [R&B]'].value_counts().loc[frequency].plot.bar()\n",
    "plt.xticks(rotation = 'vertical')\n",
    "plt.yticks([100,300,500])\n",
    "plt.ylim(0,550)\n",
    "plt.title(\"R&B\")\n",
    "\n",
    "plt.subplot(4,4,14)\n",
    "mxmh_df['Frequency [Rap]'].value_counts().loc[frequency].plot.bar()\n",
    "plt.xticks(rotation = 'vertical')\n",
    "plt.yticks([100,300,500])\n",
    "plt.ylim(0,550)\n",
    "plt.title(\"Rap\")\n",
    "\n",
    "plt.subplot(4,4,15)\n",
    "mxmh_df['Frequency [Rock]'].value_counts().loc[frequency].plot.bar()\n",
    "plt.xticks(rotation = 'vertical')\n",
    "plt.yticks([100,300,500])\n",
    "plt.ylim(0,550)\n",
    "plt.title(\"Rock\")\n",
    "\n",
    "plt.subplot(4,4,16)\n",
    "mxmh_df['Frequency [Video game music]'].value_counts().loc[frequency].plot.bar()\n",
    "plt.xticks(rotation = 'vertical')\n",
    "plt.yticks([100,300,500])\n",
    "plt.ylim(0,550)\n",
    "plt.title(\"Video game music\")\n",
    "\n",
    "plt.subplots_adjust(wspace = 0.8, hspace = 0.8)\n",
    "plt.suptitle(\"How frequently respondents listen to different music genres\")"
   ]
  },
  {
   "cell_type": "code",
   "execution_count": 110,
   "id": "84067b50",
   "metadata": {},
   "outputs": [
    {
     "data": {
      "text/plain": [
       "Text(0.5, 0.98, 'Self-reported mental health condition scores')"
      ]
     },
     "execution_count": 110,
     "metadata": {},
     "output_type": "execute_result"
    },
    {
     "data": {
      "image/png": "[encoded data removed]",
      "text/plain": [
       "<Figure size 432x288 with 4 Axes>"
      ]
     },
     "metadata": {
      "needs_background": "light"
     },
     "output_type": "display_data"
    }
   ],
   "source": [
    "plt.subplot(2,2,1)\n",
    "plt.hist(mxmh_df['Anxiety'])\n",
    "plt.yticks([100,200])\n",
    "plt.ylim(0,250)\n",
    "plt.title(\"Anxiety\")\n",
    "\n",
    "plt.subplot(2,2,2)\n",
    "plt.hist(mxmh_df['Depression'])\n",
    "plt.yticks([100,200])\n",
    "plt.ylim(0,250)\n",
    "plt.title(\"Depression\")\n",
    "\n",
    "plt.subplot(2,2,3)\n",
    "plt.hist(mxmh_df['Insomnia'])\n",
    "plt.yticks([100,200])\n",
    "plt.ylim(0,250)\n",
    "plt.title(\"Insomnia\")\n",
    "\n",
    "plt.subplot(2,2,4)\n",
    "plt.hist(mxmh_df['OCD'])\n",
    "plt.yticks([100,200])\n",
    "plt.ylim(0,250)\n",
    "plt.title(\"OCD\")\n",
    "\n",
    "plt.subplots_adjust(wspace = 0.8, hspace = 0.8)\n",
    "plt.suptitle(\"Self-reported mental health condition scores\")"
   ]
  },
  {
   "cell_type": "markdown",
   "id": "bd233865",
   "metadata": {},
   "source": [
    "#### Explore relationship between columns using scatter plots, bar charts etc."
   ]
  },
  {
   "cell_type": "markdown",
   "id": "27d465dd",
   "metadata": {},
   "source": [
    "What types of music genre preferences are potentially correlated to self-reported mental health conditions?"
   ]
  },
  {
   "cell_type": "markdown",
   "id": "efe602ea",
   "metadata": {},
   "source": [
    "*Anxiety*"
   ]
  },
  {
   "cell_type": "code",
   "execution_count": 21,
   "id": "bd526473",
   "metadata": {
    "scrolled": false
   },
   "outputs": [
    {
     "data": {
      "text/plain": [
       "<AxesSubplot:xlabel='Fav genre'>"
      ]
     },
     "execution_count": 21,
     "metadata": {},
     "output_type": "execute_result"
    },
    {
     "data": {
      "image/png": "[encoded data removed]",
      "text/plain": [
       "<Figure size 432x288 with 1 Axes>"
      ]
     },
     "metadata": {
      "needs_background": "light"
     },
     "output_type": "display_data"
    }
   ],
   "source": [
    "anxiety_music =  mxmh_df.groupby(['Fav genre'])['Anxiety'].mean()\n",
    "\n",
    "anxiety_music.plot.bar()"
   ]
  },
  {
   "cell_type": "markdown",
   "id": "c8053960",
   "metadata": {},
   "source": [
    "Respondents with Gospel as their favourite music genre seem to have lower self-reported anxiety on average, whereas those with Folk and K-Pop as their favourite music genre seem to have relatively higher self-reported anxiety.\n",
    "\n",
    "*Note: The number of respondents are largely unbalanced, with very low number of respondents reporting Gospel as their favourite genre, for example. Hence, the following and subsequent observations are just a rough indication of potential patterns of the data.*"
   ]
  },
  {
   "cell_type": "markdown",
   "id": "e8cb5624",
   "metadata": {},
   "source": [
    "*Depression*"
   ]
  },
  {
   "cell_type": "code",
   "execution_count": 22,
   "id": "d0d76d35",
   "metadata": {
    "scrolled": false
   },
   "outputs": [
    {
     "data": {
      "text/plain": [
       "<AxesSubplot:xlabel='Fav genre'>"
      ]
     },
     "execution_count": 22,
     "metadata": {},
     "output_type": "execute_result"
    },
    {
     "data": {
      "image/png": "[encoded data removed]",
      "text/plain": [
       "<Figure size 432x288 with 1 Axes>"
      ]
     },
     "metadata": {
      "needs_background": "light"
     },
     "output_type": "display_data"
    }
   ],
   "source": [
    "depression_music =  mxmh_df.groupby(['Fav genre'])['Depression'].mean()\n",
    "\n",
    "depression_music.plot.bar()"
   ]
  },
  {
   "cell_type": "markdown",
   "id": "72ae3ea1",
   "metadata": {},
   "source": [
    "Respondents with Gospel as their favourite music genre seem to have the lowest self-reported depression on average, whereas those with Lofi as their favourite music genre seem to have the highest self-reported depression."
   ]
  },
  {
   "cell_type": "markdown",
   "id": "bff82e59",
   "metadata": {},
   "source": [
    "*Insomnia*"
   ]
  },
  {
   "cell_type": "code",
   "execution_count": 23,
   "id": "81af9fe1",
   "metadata": {
    "scrolled": false
   },
   "outputs": [
    {
     "data": {
      "text/plain": [
       "<AxesSubplot:xlabel='Fav genre'>"
      ]
     },
     "execution_count": 23,
     "metadata": {},
     "output_type": "execute_result"
    },
    {
     "data": {
      "image/png": "[encoded data removed]",
      "text/plain": [
       "<Figure size 432x288 with 1 Axes>"
      ]
     },
     "metadata": {
      "needs_background": "light"
     },
     "output_type": "display_data"
    }
   ],
   "source": [
    "insomnia_music =  mxmh_df.groupby(['Fav genre'])['Insomnia'].mean()\n",
    "\n",
    "insomnia_music.plot.bar()"
   ]
  },
  {
   "cell_type": "markdown",
   "id": "55e0f7e9",
   "metadata": {},
   "source": [
    "Respondents with Rap as their favourite music genre seem to have lower self-reported insomnia on average, whereas those with Lofi as their favourite music genre seem to have the highest self-reported insomnia."
   ]
  },
  {
   "cell_type": "markdown",
   "id": "06752d8e",
   "metadata": {},
   "source": [
    "*OCD*"
   ]
  },
  {
   "cell_type": "code",
   "execution_count": 26,
   "id": "f994c676",
   "metadata": {
    "scrolled": false
   },
   "outputs": [
    {
     "data": {
      "text/plain": [
       "<AxesSubplot:xlabel='Fav genre'>"
      ]
     },
     "execution_count": 26,
     "metadata": {},
     "output_type": "execute_result"
    },
    {
     "data": {
      "image/png": "[encoded data removed]",
      "text/plain": [
       "<Figure size 432x288 with 1 Axes>"
      ]
     },
     "metadata": {
      "needs_background": "light"
     },
     "output_type": "display_data"
    }
   ],
   "source": [
    "ocd_music =  mxmh_df.groupby(['Fav genre'])['OCD'].mean()\n",
    "\n",
    "ocd_music.plot.bar()"
   ]
  },
  {
   "cell_type": "markdown",
   "id": "ee6e62e1",
   "metadata": {},
   "source": [
    "Respondents with Gospel as their favourite music genre seem to have lower self-reported OCD on average, whereas those with Lofi as their favourite music genre seem to have relatively higher self-reported OCD."
   ]
  },
  {
   "cell_type": "markdown",
   "id": "4a01d320",
   "metadata": {},
   "source": [
    "From the observations above, it could be possible that respondents with higher self-reported depression, insomnia and OCD prefer Lofi music due to its potential calming effects. However, this is not conclusive and will require further data collection and analysis to explore this situation."
   ]
  }
 ],
 "metadata": {
  "kernelspec": {
   "display_name": "Python 3 (ipykernel)",
   "language": "python",
   "name": "python3"
  },
  "language_info": {
   "codemirror_mode": {
    "name": "ipython",
    "version": 3
   },
   "file_extension": ".py",
   "mimetype": "text/x-python",
   "name": "python",
   "nbconvert_exporter": "python",
   "pygments_lexer": "ipython3",
   "version": "3.9.7"
  }
 },
 "nbformat": 4,
 "nbformat_minor": 5
}
